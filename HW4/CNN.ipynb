{
 "cells": [
  {
   "cell_type": "code",
   "execution_count": 1,
   "metadata": {},
   "outputs": [],
   "source": [
    "import cv2\n",
    "import numpy as np\n",
    "import os\n",
    "import time\n",
    "import scipy.io as sio\n",
    "import matplotlib.pyplot as plt\n",
    "import math\n",
    "import main_functions as main"
   ]
  },
  {
   "cell_type": "code",
   "execution_count": 2,
   "metadata": {},
   "outputs": [
    {
     "name": "stdout",
     "output_type": "stream",
     "text": [
      "[5 2 3 ... 2 9 8]\n",
      "(10, 10)\n",
      "(10, 10) (1, 196)\n"
     ]
    },
    {
     "ename": "ValueError",
     "evalue": "cannot reshape array of size 19600 into shape (1,1960)",
     "output_type": "error",
     "traceback": [
      "\u001b[1;31m---------------------------------------------------------------------------\u001b[0m",
      "\u001b[1;31mValueError\u001b[0m                                Traceback (most recent call last)",
      "\u001b[1;32m<ipython-input-2-29342d9bb8c2>\u001b[0m in \u001b[0;36m<module>\u001b[1;34m\u001b[0m\n\u001b[0;32m      1\u001b[0m \u001b[1;32mif\u001b[0m \u001b[0m__name__\u001b[0m \u001b[1;33m==\u001b[0m \u001b[1;34m'__main__'\u001b[0m\u001b[1;33m:\u001b[0m\u001b[1;33m\u001b[0m\u001b[1;33m\u001b[0m\u001b[0m\n\u001b[1;32m----> 2\u001b[1;33m     \u001b[0mmain\u001b[0m\u001b[1;33m.\u001b[0m\u001b[0mmain_slp_linear\u001b[0m\u001b[1;33m(\u001b[0m\u001b[1;33m)\u001b[0m\u001b[1;33m\u001b[0m\u001b[1;33m\u001b[0m\u001b[0m\n\u001b[0m\u001b[0;32m      3\u001b[0m \u001b[1;33m\u001b[0m\u001b[0m\n",
      "\u001b[1;32mF:\\umn\\CSCI5561\\HW4\\main_functions.py\u001b[0m in \u001b[0;36mmain_slp_linear\u001b[1;34m()\u001b[0m\n\u001b[0;32m     14\u001b[0m     \u001b[0mim_train\u001b[0m\u001b[1;33m,\u001b[0m \u001b[0mim_test\u001b[0m \u001b[1;33m=\u001b[0m \u001b[0mim_train\u001b[0m \u001b[1;33m/\u001b[0m \u001b[1;36m255.0\u001b[0m\u001b[1;33m,\u001b[0m \u001b[0mim_test\u001b[0m \u001b[1;33m/\u001b[0m \u001b[1;36m255.0\u001b[0m\u001b[1;33m\u001b[0m\u001b[1;33m\u001b[0m\u001b[0m\n\u001b[0;32m     15\u001b[0m     \u001b[0mmini_batch_x\u001b[0m\u001b[1;33m,\u001b[0m \u001b[0mmini_batch_y\u001b[0m \u001b[1;33m=\u001b[0m \u001b[0mget_mini_batch\u001b[0m\u001b[1;33m(\u001b[0m\u001b[0mim_train\u001b[0m\u001b[1;33m,\u001b[0m \u001b[0mlabel_train\u001b[0m\u001b[1;33m,\u001b[0m \u001b[0mbatch_size\u001b[0m\u001b[1;33m)\u001b[0m\u001b[1;33m\u001b[0m\u001b[1;33m\u001b[0m\u001b[0m\n\u001b[1;32m---> 16\u001b[1;33m     \u001b[0mw\u001b[0m\u001b[1;33m,\u001b[0m \u001b[0mb\u001b[0m \u001b[1;33m=\u001b[0m \u001b[0mtrain_slp_linear\u001b[0m\u001b[1;33m(\u001b[0m\u001b[0mmini_batch_x\u001b[0m\u001b[1;33m,\u001b[0m \u001b[0mmini_batch_y\u001b[0m\u001b[1;33m)\u001b[0m\u001b[1;33m\u001b[0m\u001b[1;33m\u001b[0m\u001b[0m\n\u001b[0m\u001b[0;32m     17\u001b[0m     \u001b[0msio\u001b[0m\u001b[1;33m.\u001b[0m\u001b[0msavemat\u001b[0m\u001b[1;33m(\u001b[0m\u001b[1;34m'slp_linear.mat'\u001b[0m\u001b[1;33m,\u001b[0m \u001b[0mmdict\u001b[0m\u001b[1;33m=\u001b[0m\u001b[1;33m{\u001b[0m\u001b[1;34m'w'\u001b[0m\u001b[1;33m:\u001b[0m \u001b[0mw\u001b[0m\u001b[1;33m,\u001b[0m \u001b[1;34m'b'\u001b[0m\u001b[1;33m:\u001b[0m \u001b[0mb\u001b[0m\u001b[1;33m}\u001b[0m\u001b[1;33m)\u001b[0m\u001b[1;33m\u001b[0m\u001b[1;33m\u001b[0m\u001b[0m\n\u001b[0;32m     18\u001b[0m \u001b[1;33m\u001b[0m\u001b[0m\n",
      "\u001b[1;32mF:\\umn\\CSCI5561\\HW4\\cnn.py\u001b[0m in \u001b[0;36mtrain_slp_linear\u001b[1;34m(mini_batch_x, mini_batch_y)\u001b[0m\n\u001b[0;32m    172\u001b[0m \u001b[1;33m\u001b[0m\u001b[0m\n\u001b[0;32m    173\u001b[0m                 \u001b[1;31m# dldy -- n*1\u001b[0m\u001b[1;33m\u001b[0m\u001b[1;33m\u001b[0m\u001b[1;33m\u001b[0m\u001b[0m\n\u001b[1;32m--> 174\u001b[1;33m                 \u001b[0mdl_dx\u001b[0m\u001b[1;33m,\u001b[0m \u001b[0mdl_dw\u001b[0m\u001b[1;33m,\u001b[0m \u001b[0mdl_db\u001b[0m \u001b[1;33m=\u001b[0m \u001b[0mfc_backward\u001b[0m\u001b[1;33m(\u001b[0m\u001b[0mdl_dy\u001b[0m\u001b[1;33m,\u001b[0m \u001b[0mx\u001b[0m\u001b[1;33m,\u001b[0m \u001b[0mw\u001b[0m\u001b[1;33m,\u001b[0m \u001b[0mb\u001b[0m\u001b[1;33m,\u001b[0m \u001b[0my\u001b[0m\u001b[1;33m)\u001b[0m\u001b[1;33m\u001b[0m\u001b[1;33m\u001b[0m\u001b[0m\n\u001b[0m\u001b[0;32m    175\u001b[0m                 \u001b[0mdL_dw\u001b[0m \u001b[1;33m=\u001b[0m \u001b[0mdL_dw\u001b[0m \u001b[1;33m+\u001b[0m \u001b[0mdl_dw\u001b[0m\u001b[1;33m.\u001b[0m\u001b[0mreshape\u001b[0m\u001b[1;33m(\u001b[0m\u001b[1;33m(\u001b[0m\u001b[1;36m10\u001b[0m\u001b[1;33m,\u001b[0m \u001b[1;36m196\u001b[0m\u001b[1;33m)\u001b[0m\u001b[1;33m)\u001b[0m\u001b[1;33m\u001b[0m\u001b[1;33m\u001b[0m\u001b[0m\n\u001b[0;32m    176\u001b[0m                 \u001b[0mdL_db\u001b[0m \u001b[1;33m=\u001b[0m \u001b[0mdL_db\u001b[0m \u001b[1;33m+\u001b[0m \u001b[0mdl_db\u001b[0m\u001b[1;33m\u001b[0m\u001b[1;33m\u001b[0m\u001b[0m\n",
      "\u001b[1;32mF:\\umn\\CSCI5561\\HW4\\cnn.py\u001b[0m in \u001b[0;36mfc_backward\u001b[1;34m(dl_dy, x, w, b, y)\u001b[0m\n\u001b[0;32m     52\u001b[0m     \u001b[0mprint\u001b[0m\u001b[1;33m(\u001b[0m\u001b[0mdl_dy\u001b[0m\u001b[1;33m.\u001b[0m\u001b[0mshape\u001b[0m\u001b[1;33m,\u001b[0m\u001b[0mx\u001b[0m\u001b[1;33m.\u001b[0m\u001b[0mshape\u001b[0m\u001b[1;33m)\u001b[0m\u001b[1;33m\u001b[0m\u001b[1;33m\u001b[0m\u001b[0m\n\u001b[0;32m     53\u001b[0m \u001b[1;33m\u001b[0m\u001b[0m\n\u001b[1;32m---> 54\u001b[1;33m     \u001b[0mdl_dw\u001b[0m \u001b[1;33m=\u001b[0m \u001b[0mnp\u001b[0m\u001b[1;33m.\u001b[0m\u001b[0mouter\u001b[0m\u001b[1;33m(\u001b[0m\u001b[0mdl_dy\u001b[0m \u001b[1;33m,\u001b[0m \u001b[0mx\u001b[0m\u001b[1;33m)\u001b[0m\u001b[1;33m.\u001b[0m\u001b[0mreshape\u001b[0m\u001b[1;33m(\u001b[0m\u001b[1;33m(\u001b[0m\u001b[1;36m1\u001b[0m\u001b[1;33m,\u001b[0m\u001b[0mnp\u001b[0m\u001b[1;33m.\u001b[0m\u001b[0msize\u001b[0m\u001b[1;33m(\u001b[0m\u001b[0mw\u001b[0m\u001b[1;33m)\u001b[0m\u001b[1;33m)\u001b[0m\u001b[1;33m)\u001b[0m\u001b[1;33m\u001b[0m\u001b[1;33m\u001b[0m\u001b[0m\n\u001b[0m\u001b[0;32m     55\u001b[0m \u001b[1;33m\u001b[0m\u001b[0m\n\u001b[0;32m     56\u001b[0m     \u001b[0mdl_db\u001b[0m \u001b[1;33m=\u001b[0m \u001b[0mdl_dy\u001b[0m\u001b[1;33m\u001b[0m\u001b[1;33m\u001b[0m\u001b[0m\n",
      "\u001b[1;31mValueError\u001b[0m: cannot reshape array of size 19600 into shape (1,1960)"
     ]
    }
   ],
   "source": [
    "if __name__ == '__main__':\n",
    "    main.main_slp_linear()\n",
    "    "
   ]
  },
  {
   "cell_type": "code",
   "execution_count": 78,
   "metadata": {},
   "outputs": [
    {
     "name": "stdout",
     "output_type": "stream",
     "text": [
      "[ 1  4  2 -2  5 -2  1] [ 1 -1  2  1]\n"
     ]
    },
    {
     "data": {
      "text/plain": [
       "4.0"
      ]
     },
     "execution_count": 78,
     "metadata": {},
     "output_type": "execute_result"
    }
   ],
   "source": [
    "a = np.array([1,2,-1,1])\n",
    "b = np.flip(a)\n",
    "#p = np.where(a > 5,1,0)\n",
    "k = np.convolve(a,a)\n",
    "print(k,b)\n",
    "c = 4\n",
    "np.ceil(c)"
   ]
  },
  {
   "cell_type": "code",
   "execution_count": 5,
   "metadata": {},
   "outputs": [],
   "source": [
    "def im2col_sliding_strided(A, BSZ, stepsize=1):\n",
    "    # Parameters\n",
    "    m,n = A.shape\n",
    "    s0, s1 = A.strides    \n",
    "    nrows = m-BSZ[0]+1\n",
    "    ncols = n-BSZ[1]+1\n",
    "    shp = BSZ[0],BSZ[1],nrows,ncols\n",
    "    strd = s0,s1,s0,s1\n",
    "\n",
    "    out_view = np.lib.stride_tricks.as_strided(A, shape=shp, strides=strd)\n",
    "    return out_view.reshape(BSZ[0]*BSZ[1],-1)[:,::stepsize]"
   ]
  },
  {
   "cell_type": "code",
   "execution_count": 97,
   "metadata": {},
   "outputs": [
    {
     "name": "stdout",
     "output_type": "stream",
     "text": [
      "[[ 0  1  2  3]\n",
      " [ 4  5  6  7]\n",
      " [ 8  9 10 11]\n",
      " [12 13 14 15]]\n",
      "[[ 5  7]\n",
      " [13 15]]\n",
      "[[0 1]\n",
      " [4 5]] 5\n",
      "[[0 0]\n",
      " [0 1]]\n",
      "[[2 3]\n",
      " [6 7]] 7\n",
      "[[0 0]\n",
      " [0 1]]\n",
      "[[ 8  9]\n",
      " [12 13]] 13\n",
      "[[0 0]\n",
      " [0 1]]\n",
      "[[10 11]\n",
      " [14 15]] 15\n",
      "[[0 0]\n",
      " [0 1]]\n",
      "[[0 0 0 0]\n",
      " [0 1 0 1]\n",
      " [0 0 0 0]\n",
      " [0 1 0 1]]\n"
     ]
    }
   ],
   "source": [
    "A = np.arange(4**2).reshape((4,4))\n",
    "B = np.pad(A, (0, 0), 'constant', constant_values=0)\n",
    "D = np.pad(A, ((0,0), (0,1)), 'constant', constant_values=0)\n",
    "print(A)\n",
    "#print(B)\n",
    "#print(D)\n",
    "BSZ = (2,2)\n",
    "\n",
    "C = im2col_sliding_strided(B, BSZ, 2)\n",
    "#print(C)\n",
    "#print(np.rot90(np.rot90(A)).reshape((1,np.size(A)) ))\n",
    "      \n",
    "#print(np.flip(A.reshape((1,np.size(A)) )  ))\n",
    "#print(np.max(C,axis = 0))\n",
    "\n",
    "\n",
    "\n",
    "\n",
    "M, N = A.shape\n",
    "K = 2\n",
    "L = 2\n",
    "\n",
    "MK = M // K\n",
    "NL = N // L\n",
    "\n",
    "print(A[:MK*K, :NL*L].reshape(MK, K, NL, L).max(axis=(1, 3)))\n",
    "\n",
    "#print(A[:MK*K, :NL*L].reshape(MK, K, NL, L))\n",
    "\n",
    "E = A[:MK*K, :NL*L].reshape(MK, K, NL, L)\n",
    "\n",
    "for i in range(MK):\n",
    "    for j in range(NL):\n",
    "        print(E[i,:,j,:],np.max(E[i,:,j,:]))\n",
    "        \n",
    "        E[i,:,j,:] = np.where( E[i,:,j,:] == np.max(E[i,:,j,:]),1,0)\n",
    "        \n",
    "        print(E[i,:,j,:])\n",
    "print(E.reshape([M,N]))"
   ]
  },
  {
   "cell_type": "code",
   "execution_count": 8,
   "metadata": {},
   "outputs": [
    {
     "name": "stdout",
     "output_type": "stream",
     "text": [
      "[[0.01275815 0.98735194 0.48331107]\n",
      " [0.73951974 0.09412153 0.96166489]\n",
      " [0.79312298 0.17502292 0.09582755]] [0.73951974 0.09412153 0.96166489]\n"
     ]
    }
   ],
   "source": [
    "k = np.random.rand(3,3)\n",
    "a = np.array([2.7,1,3])\n",
    "c = np.array([4,9,7])\n",
    "b = a.reshape([3,1])\n",
    "#print(k@a,k@b)\n",
    "d = np.outer(a,c)\n",
    "#print(np.linalg.norm(a-c,2)**2,np.sum((a-c)**2))\n",
    "print(k,k[1,:])\n",
    "\n",
    "l =[]\n",
    "for i in range(8):\n",
    "    l.append(k)\n",
    "len(l)\n",
    "l[1].shape\n",
    "a = np.array(l[1]).reshape((1,9))\n"
   ]
  },
  {
   "cell_type": "code",
   "execution_count": 128,
   "metadata": {},
   "outputs": [],
   "source": [
    "def get_mini_batch(im_train, label_train, batch_size):\n",
    "    # TO DO\n",
    "    \n",
    "    image_vec, n_train = im_train.shape   #Decompose the im\n",
    "    \n",
    "    batch_perm = np.random.permutation(n_train)\n",
    "    \n",
    "    n_batch = np.int(n_train//batch_size)\n",
    "    \n",
    "    mini_batch_x = []\n",
    "    mini_batch_y = []\n",
    "    \n",
    "    for i in range(n_batch):\n",
    "        \n",
    "        end_id = np.min([i*batch_size+batch_size,n_train])\n",
    "        id_x =batch_perm[np.arange(i*batch_size,end_id,1)]\n",
    "        \n",
    "        mini_batch_x.append(im_train[:, id_x])\n",
    "        \n",
    "        num_class = 10\n",
    "        targets = np.array([label_train[id_x]]).reshape(-1)\n",
    "        one_hot_targets = np.eye(num_class)[targets]\n",
    "        \n",
    "        mini_batch_y.append(one_hot_targets)\n",
    "    \n",
    "    return mini_batch_x, mini_batch_y"
   ]
  },
  {
   "cell_type": "code",
   "execution_count": 129,
   "metadata": {},
   "outputs": [],
   "source": [
    "def fc(x, w, b):\n",
    "    # TO DO\n",
    "    # w:batch*196    # x:196*1    # b:batch*1\n",
    "    \n",
    "    y = w @ x+b\n",
    "        \n",
    "    return y"
   ]
  },
  {
   "cell_type": "code",
   "execution_count": 130,
   "metadata": {},
   "outputs": [],
   "source": [
    "def fc_backward(dl_dy, x, w, b, y):\n",
    "    # TO DO\n",
    "    dl_dx = w.T @ dl_dy  # 196 * batch\n",
    "    \n",
    "    dl_dw = np.outer(dl_dy , x).reshape((1,np.size(w)))\n",
    "    \n",
    "    dl_db = dl_dy\n",
    "    \n",
    "    return dl_dx, dl_dw, dl_db"
   ]
  },
  {
   "cell_type": "code",
   "execution_count": 131,
   "metadata": {},
   "outputs": [],
   "source": [
    "def loss_euclidean(y_tilde, y):\n",
    "    # TO DO\n",
    "    l = np.linalg.norm((y_tilde-y),2)**2\n",
    "    dldy = 2 * (y_tilde - y)\n",
    "    \n",
    "    return l, dl_dy"
   ]
  },
  {
   "cell_type": "code",
   "execution_count": 132,
   "metadata": {},
   "outputs": [],
   "source": [
    "def loss_cross_entropy_softmax(x, y):\n",
    "    # TO DO\n",
    "    x_tilde = np.exp(x)\n",
    "    \n",
    "    x_sum = np.sum(x_tilde)\n",
    "    \n",
    "    y_tilde = x_tilde / x_sum\n",
    "    \n",
    "    L = - np.sum(y * np.log(y_tilde) )\n",
    "    \n",
    "    dl_dy = y_tilde - y\n",
    "    \n",
    "    return l, dl_dy"
   ]
  },
  {
   "cell_type": "code",
   "execution_count": 133,
   "metadata": {},
   "outputs": [],
   "source": [
    "def relu(x):\n",
    "    # TO DO\n",
    "    return y"
   ]
  },
  {
   "cell_type": "code",
   "execution_count": 134,
   "metadata": {},
   "outputs": [],
   "source": [
    "def relu_backward(dl_dy, x, y):\n",
    "    # TO DO\n",
    "    return dl_dx"
   ]
  },
  {
   "cell_type": "code",
   "execution_count": 135,
   "metadata": {},
   "outputs": [],
   "source": [
    "def conv(x, w_conv, b_conv):\n",
    "    # TO DO\n",
    "    return y\n"
   ]
  },
  {
   "cell_type": "code",
   "execution_count": 136,
   "metadata": {},
   "outputs": [],
   "source": [
    "def conv_backward(dl_dy, x, w_conv, b_conv, y):\n",
    "    # TO DO\n",
    "    return dl_dw, dl_db"
   ]
  },
  {
   "cell_type": "code",
   "execution_count": 137,
   "metadata": {},
   "outputs": [],
   "source": [
    "def pool2x2(x):\n",
    "    # TO DO\n",
    "    return y"
   ]
  },
  {
   "cell_type": "code",
   "execution_count": 138,
   "metadata": {},
   "outputs": [],
   "source": [
    "def pool2x2_backward(dl_dy, x, y):\n",
    "    # TO DO\n",
    "    return dl_dx"
   ]
  },
  {
   "cell_type": "code",
   "execution_count": 139,
   "metadata": {},
   "outputs": [],
   "source": [
    "def flattening(x):\n",
    "    # TO DO\n",
    "    return y"
   ]
  },
  {
   "cell_type": "code",
   "execution_count": 140,
   "metadata": {},
   "outputs": [],
   "source": [
    "def flattening_backward(dl_dy, x, y):\n",
    "    # TO DO\n",
    "    return dl_dx"
   ]
  },
  {
   "cell_type": "code",
   "execution_count": 141,
   "metadata": {},
   "outputs": [],
   "source": [
    "def train_slp_linear(mini_batch_x, mini_batch_y):\n",
    "    # TO DO\n",
    "    \n",
    "    # learning rate\n",
    "    gamma = 0.0001\n",
    "    \n",
    "    # decay rate\n",
    "    lamda = 0.985\n",
    "\n",
    "    # init weight\n",
    "    w = np.random.rand(10,196)\n",
    "    b =  np.random.rand(10, 1)\n",
    "\n",
    "    # number of iteration\n",
    "    n_Iter = 2000\n",
    "\n",
    "    # number of minibatch\n",
    "    nBatch = len(mini_batch_x)\n",
    "    #batchSize = 30;\n",
    "\n",
    "    # cell to matrix\n",
    "    #mini_x = zeros(nBatch, 196, batchSize);\n",
    "    #mini_y = zeros(nBatch, 10, batchSize);\n",
    "    \n",
    "    #for i= 1: nBatch\n",
    "        #mini_x(i,:, :) = mini_batch_x{i,1};\n",
    "        #mini_y(i, :, :) = mini_batch_y{i,1};\n",
    "    \n",
    "    #loss_curve = []\n",
    "\n",
    "    for id_x in range(nIter):\n",
    "        if ((id_x % 10) == 0):\n",
    "            gamma = gamma * lamda\n",
    "            \n",
    "        dLdw = np.zeros((1,np.size(w)))\n",
    "        dLdb = np.zeros_like(b)\n",
    "        for i in range(nBatch):\n",
    "            L = 0\n",
    "            batch_size = len(mini_batch_x[i])\n",
    "            \n",
    "            for j in range(batch_size):\n",
    "                x = ((mini_batch_x[i])[j,:]).reshape((1,196))\n",
    "                y_tilde = fc(x, w, b);\n",
    "                y = ((mini_batch_y[i])[j,:]).reshape((1,10))\n",
    "                \n",
    "                # loss\n",
    "                loss, dldy = Loss_euclidean(y_tilde, y) \n",
    "                \n",
    "                # dldy -- n*1\n",
    "                dldx, dldw, dldb = FC_backward(dldy, x, w, b, y)\n",
    "                dLdw = dLdw + dldw.reshape((10, 196))\n",
    "                dLdb = dLdb + dldb\n",
    "                L = L + loss\n",
    "        \n",
    "            w = w - gamma/batchSize*dLdw;\n",
    "            b = b - gamma/batchSize*dLdb;\n",
    "            L = L / batchSize;\n",
    "       \n",
    "    return w, b"
   ]
  },
  {
   "cell_type": "code",
   "execution_count": 142,
   "metadata": {},
   "outputs": [],
   "source": [
    "def train_slp(mini_batch_x, mini_batch_y):\n",
    "    # TO DO\n",
    "    return w, b"
   ]
  },
  {
   "cell_type": "code",
   "execution_count": 143,
   "metadata": {},
   "outputs": [],
   "source": [
    "def train_mlp(mini_batch_x, mini_batch_y):\n",
    "    # TO DO\n",
    "    return w1, b1, w2, b2"
   ]
  },
  {
   "cell_type": "code",
   "execution_count": 144,
   "metadata": {},
   "outputs": [],
   "source": [
    "def train_cnn(mini_batch_x, mini_batch_y):\n",
    "    # TO DO\n",
    "    return w_conv, b_conv, w_fc, b_fc"
   ]
  },
  {
   "cell_type": "code",
   "execution_count": 5,
   "metadata": {},
   "outputs": [
    {
     "ename": "IndexError",
     "evalue": "index 11445 is out of bounds for axis 0 with size 1",
     "output_type": "error",
     "traceback": [
      "\u001b[1;31m---------------------------------------------------------------------------\u001b[0m",
      "\u001b[1;31mIndexError\u001b[0m                                Traceback (most recent call last)",
      "\u001b[1;32m<ipython-input-5-29342d9bb8c2>\u001b[0m in \u001b[0;36m<module>\u001b[1;34m\u001b[0m\n\u001b[0;32m      1\u001b[0m \u001b[1;32mif\u001b[0m \u001b[0m__name__\u001b[0m \u001b[1;33m==\u001b[0m \u001b[1;34m'__main__'\u001b[0m\u001b[1;33m:\u001b[0m\u001b[1;33m\u001b[0m\u001b[1;33m\u001b[0m\u001b[0m\n\u001b[1;32m----> 2\u001b[1;33m     \u001b[0mmain\u001b[0m\u001b[1;33m.\u001b[0m\u001b[0mmain_slp_linear\u001b[0m\u001b[1;33m(\u001b[0m\u001b[1;33m)\u001b[0m\u001b[1;33m\u001b[0m\u001b[1;33m\u001b[0m\u001b[0m\n\u001b[0m\u001b[0;32m      3\u001b[0m \u001b[1;33m\u001b[0m\u001b[0m\n",
      "\u001b[1;32mF:\\umn\\CSCI5561\\HW4\\main_functions.py\u001b[0m in \u001b[0;36mmain_slp_linear\u001b[1;34m()\u001b[0m\n\u001b[0;32m     13\u001b[0m     \u001b[0mbatch_size\u001b[0m \u001b[1;33m=\u001b[0m \u001b[1;36m32\u001b[0m\u001b[1;33m\u001b[0m\u001b[1;33m\u001b[0m\u001b[0m\n\u001b[0;32m     14\u001b[0m     \u001b[0mim_train\u001b[0m\u001b[1;33m,\u001b[0m \u001b[0mim_test\u001b[0m \u001b[1;33m=\u001b[0m \u001b[0mim_train\u001b[0m \u001b[1;33m/\u001b[0m \u001b[1;36m255.0\u001b[0m\u001b[1;33m,\u001b[0m \u001b[0mim_test\u001b[0m \u001b[1;33m/\u001b[0m \u001b[1;36m255.0\u001b[0m\u001b[1;33m\u001b[0m\u001b[1;33m\u001b[0m\u001b[0m\n\u001b[1;32m---> 15\u001b[1;33m     \u001b[0mmini_batch_x\u001b[0m\u001b[1;33m,\u001b[0m \u001b[0mmini_batch_y\u001b[0m \u001b[1;33m=\u001b[0m \u001b[0mget_mini_batch\u001b[0m\u001b[1;33m(\u001b[0m\u001b[0mim_train\u001b[0m\u001b[1;33m,\u001b[0m \u001b[0mlabel_train\u001b[0m\u001b[1;33m,\u001b[0m \u001b[0mbatch_size\u001b[0m\u001b[1;33m)\u001b[0m\u001b[1;33m\u001b[0m\u001b[1;33m\u001b[0m\u001b[0m\n\u001b[0m\u001b[0;32m     16\u001b[0m     \u001b[0mw\u001b[0m\u001b[1;33m,\u001b[0m \u001b[0mb\u001b[0m \u001b[1;33m=\u001b[0m \u001b[0mtrain_slp_linear\u001b[0m\u001b[1;33m(\u001b[0m\u001b[0mmini_batch_x\u001b[0m\u001b[1;33m,\u001b[0m \u001b[0mmini_batch_y\u001b[0m\u001b[1;33m)\u001b[0m\u001b[1;33m\u001b[0m\u001b[1;33m\u001b[0m\u001b[0m\n\u001b[0;32m     17\u001b[0m     \u001b[0msio\u001b[0m\u001b[1;33m.\u001b[0m\u001b[0msavemat\u001b[0m\u001b[1;33m(\u001b[0m\u001b[1;34m'slp_linear.mat'\u001b[0m\u001b[1;33m,\u001b[0m \u001b[0mmdict\u001b[0m\u001b[1;33m=\u001b[0m\u001b[1;33m{\u001b[0m\u001b[1;34m'w'\u001b[0m\u001b[1;33m:\u001b[0m \u001b[0mw\u001b[0m\u001b[1;33m,\u001b[0m \u001b[1;34m'b'\u001b[0m\u001b[1;33m:\u001b[0m \u001b[0mb\u001b[0m\u001b[1;33m}\u001b[0m\u001b[1;33m)\u001b[0m\u001b[1;33m\u001b[0m\u001b[1;33m\u001b[0m\u001b[0m\n",
      "\u001b[1;32mF:\\umn\\CSCI5561\\HW4\\cnn.py\u001b[0m in \u001b[0;36mget_mini_batch\u001b[1;34m(im_train, label_train, batch_size)\u001b[0m\n\u001b[0;32m     28\u001b[0m         \u001b[0mmini_batch_x\u001b[0m\u001b[1;33m.\u001b[0m\u001b[0mappend\u001b[0m\u001b[1;33m(\u001b[0m\u001b[0mim_train\u001b[0m\u001b[1;33m[\u001b[0m\u001b[1;33m:\u001b[0m\u001b[1;33m,\u001b[0m \u001b[0mid_x\u001b[0m\u001b[1;33m]\u001b[0m\u001b[1;33m)\u001b[0m\u001b[1;33m\u001b[0m\u001b[1;33m\u001b[0m\u001b[0m\n\u001b[0;32m     29\u001b[0m \u001b[1;33m\u001b[0m\u001b[0m\n\u001b[1;32m---> 30\u001b[1;33m         \u001b[0mnum_class\u001b[0m \u001b[1;33m=\u001b[0m \u001b[1;36m10\u001b[0m\u001b[1;33m\u001b[0m\u001b[1;33m\u001b[0m\u001b[0m\n\u001b[0m\u001b[0;32m     31\u001b[0m         \u001b[0mtargets\u001b[0m \u001b[1;33m=\u001b[0m \u001b[0mnp\u001b[0m\u001b[1;33m.\u001b[0m\u001b[0marray\u001b[0m\u001b[1;33m(\u001b[0m\u001b[1;33m[\u001b[0m\u001b[0mlabel_train\u001b[0m\u001b[1;33m[\u001b[0m\u001b[0mid_x\u001b[0m\u001b[1;33m]\u001b[0m\u001b[1;33m]\u001b[0m\u001b[1;33m)\u001b[0m\u001b[1;33m.\u001b[0m\u001b[0mreshape\u001b[0m\u001b[1;33m(\u001b[0m\u001b[1;33m-\u001b[0m\u001b[1;36m1\u001b[0m\u001b[1;33m)\u001b[0m\u001b[1;33m\u001b[0m\u001b[1;33m\u001b[0m\u001b[0m\n\u001b[0;32m     32\u001b[0m         \u001b[0mone_hot_targets\u001b[0m \u001b[1;33m=\u001b[0m \u001b[0mnp\u001b[0m\u001b[1;33m.\u001b[0m\u001b[0meye\u001b[0m\u001b[1;33m(\u001b[0m\u001b[0mnum_class\u001b[0m\u001b[1;33m)\u001b[0m\u001b[1;33m[\u001b[0m\u001b[0mtargets\u001b[0m\u001b[1;33m]\u001b[0m\u001b[1;33m\u001b[0m\u001b[1;33m\u001b[0m\u001b[0m\n",
      "\u001b[1;31mIndexError\u001b[0m: index 11445 is out of bounds for axis 0 with size 1"
     ]
    }
   ],
   "source": [
    "if __name__ == '__main__':\n",
    "    main.main_slp_linear()\n",
    "    "
   ]
  },
  {
   "cell_type": "code",
   "execution_count": 146,
   "metadata": {},
   "outputs": [
    {
     "ename": "NameError",
     "evalue": "name 'mini_batch_x' is not defined",
     "output_type": "error",
     "traceback": [
      "\u001b[1;31m---------------------------------------------------------------------------\u001b[0m",
      "\u001b[1;31mNameError\u001b[0m                                 Traceback (most recent call last)",
      "\u001b[1;32m<ipython-input-146-7cf3a345fdc9>\u001b[0m in \u001b[0;36m<module>\u001b[1;34m\u001b[0m\n\u001b[1;32m----> 1\u001b[1;33m \u001b[0mmain\u001b[0m\u001b[1;33m.\u001b[0m\u001b[0mmain_slp\u001b[0m\u001b[1;33m(\u001b[0m\u001b[1;33m)\u001b[0m\u001b[1;33m\u001b[0m\u001b[1;33m\u001b[0m\u001b[0m\n\u001b[0m\u001b[0;32m      2\u001b[0m \u001b[0mmain\u001b[0m\u001b[1;33m.\u001b[0m\u001b[0mmain_mlp\u001b[0m\u001b[1;33m(\u001b[0m\u001b[1;33m)\u001b[0m\u001b[1;33m\u001b[0m\u001b[1;33m\u001b[0m\u001b[0m\n\u001b[0;32m      3\u001b[0m \u001b[0mmain\u001b[0m\u001b[1;33m.\u001b[0m\u001b[0mmain_cnn\u001b[0m\u001b[1;33m(\u001b[0m\u001b[1;33m)\u001b[0m\u001b[1;33m\u001b[0m\u001b[1;33m\u001b[0m\u001b[0m\n",
      "\u001b[1;32mF:\\umn\\CSCI5561\\HW4\\main_functions.py\u001b[0m in \u001b[0;36mmain_slp\u001b[1;34m()\u001b[0m\n\u001b[0;32m     43\u001b[0m     \u001b[0mim_train\u001b[0m\u001b[1;33m,\u001b[0m \u001b[0mim_test\u001b[0m \u001b[1;33m=\u001b[0m \u001b[0mim_train\u001b[0m \u001b[1;33m/\u001b[0m \u001b[1;36m255.0\u001b[0m\u001b[1;33m,\u001b[0m \u001b[0mim_test\u001b[0m \u001b[1;33m/\u001b[0m \u001b[1;36m255.0\u001b[0m\u001b[1;33m\u001b[0m\u001b[1;33m\u001b[0m\u001b[0m\n\u001b[0;32m     44\u001b[0m     \u001b[0mmini_batch_x\u001b[0m\u001b[1;33m,\u001b[0m \u001b[0mmini_batch_y\u001b[0m \u001b[1;33m=\u001b[0m \u001b[0mget_mini_batch\u001b[0m\u001b[1;33m(\u001b[0m\u001b[0mim_train\u001b[0m\u001b[1;33m,\u001b[0m \u001b[0mlabel_train\u001b[0m\u001b[1;33m,\u001b[0m \u001b[0mbatch_size\u001b[0m\u001b[1;33m)\u001b[0m\u001b[1;33m\u001b[0m\u001b[1;33m\u001b[0m\u001b[0m\n\u001b[1;32m---> 45\u001b[1;33m     \u001b[0mw\u001b[0m\u001b[1;33m,\u001b[0m \u001b[0mb\u001b[0m \u001b[1;33m=\u001b[0m \u001b[0mtrain_slp\u001b[0m\u001b[1;33m(\u001b[0m\u001b[0mmini_batch_x\u001b[0m\u001b[1;33m,\u001b[0m \u001b[0mmini_batch_y\u001b[0m\u001b[1;33m)\u001b[0m\u001b[1;33m\u001b[0m\u001b[1;33m\u001b[0m\u001b[0m\n\u001b[0m\u001b[0;32m     46\u001b[0m     \u001b[0msio\u001b[0m\u001b[1;33m.\u001b[0m\u001b[0msavemat\u001b[0m\u001b[1;33m(\u001b[0m\u001b[1;34m'slp.mat'\u001b[0m\u001b[1;33m,\u001b[0m \u001b[0mmdict\u001b[0m\u001b[1;33m=\u001b[0m\u001b[1;33m{\u001b[0m\u001b[1;34m'w'\u001b[0m\u001b[1;33m:\u001b[0m \u001b[0mw\u001b[0m\u001b[1;33m,\u001b[0m \u001b[1;34m'b'\u001b[0m\u001b[1;33m:\u001b[0m \u001b[0mb\u001b[0m\u001b[1;33m}\u001b[0m\u001b[1;33m)\u001b[0m\u001b[1;33m\u001b[0m\u001b[1;33m\u001b[0m\u001b[0m\n\u001b[0;32m     47\u001b[0m \u001b[1;33m\u001b[0m\u001b[0m\n",
      "\u001b[1;32mF:\\umn\\CSCI5561\\HW4\\cnn.py\u001b[0m in \u001b[0;36mget_mini_batch\u001b[1;34m(im_train, label_train, batch_size)\u001b[0m\n\u001b[0;32m     11\u001b[0m \u001b[1;32mdef\u001b[0m \u001b[0mget_mini_batch\u001b[0m\u001b[1;33m(\u001b[0m\u001b[0mim_train\u001b[0m\u001b[1;33m,\u001b[0m \u001b[0mlabel_train\u001b[0m\u001b[1;33m,\u001b[0m \u001b[0mbatch_size\u001b[0m\u001b[1;33m)\u001b[0m\u001b[1;33m:\u001b[0m\u001b[1;33m\u001b[0m\u001b[1;33m\u001b[0m\u001b[0m\n\u001b[0;32m     12\u001b[0m     \u001b[1;31m# TO DO\u001b[0m\u001b[1;33m\u001b[0m\u001b[1;33m\u001b[0m\u001b[1;33m\u001b[0m\u001b[0m\n\u001b[1;32m---> 13\u001b[1;33m     \u001b[1;32mreturn\u001b[0m \u001b[0mmini_batch_x\u001b[0m\u001b[1;33m,\u001b[0m \u001b[0mmini_batch_y\u001b[0m\u001b[1;33m\u001b[0m\u001b[1;33m\u001b[0m\u001b[0m\n\u001b[0m\u001b[0;32m     14\u001b[0m \u001b[1;33m\u001b[0m\u001b[0m\n\u001b[0;32m     15\u001b[0m \u001b[1;33m\u001b[0m\u001b[0m\n",
      "\u001b[1;31mNameError\u001b[0m: name 'mini_batch_x' is not defined"
     ]
    }
   ],
   "source": [
    "    main.main_slp()\n",
    "    main.main_mlp()\n",
    "    main.main_cnn()"
   ]
  },
  {
   "cell_type": "code",
   "execution_count": null,
   "metadata": {},
   "outputs": [],
   "source": []
  },
  {
   "cell_type": "code",
   "execution_count": null,
   "metadata": {},
   "outputs": [],
   "source": []
  },
  {
   "cell_type": "code",
   "execution_count": null,
   "metadata": {},
   "outputs": [],
   "source": []
  },
  {
   "cell_type": "code",
   "execution_count": null,
   "metadata": {},
   "outputs": [],
   "source": []
  },
  {
   "cell_type": "code",
   "execution_count": null,
   "metadata": {},
   "outputs": [],
   "source": []
  },
  {
   "cell_type": "code",
   "execution_count": null,
   "metadata": {},
   "outputs": [],
   "source": []
  },
  {
   "cell_type": "code",
   "execution_count": null,
   "metadata": {},
   "outputs": [],
   "source": []
  },
  {
   "cell_type": "code",
   "execution_count": null,
   "metadata": {},
   "outputs": [],
   "source": []
  },
  {
   "cell_type": "code",
   "execution_count": null,
   "metadata": {},
   "outputs": [],
   "source": []
  },
  {
   "cell_type": "code",
   "execution_count": null,
   "metadata": {},
   "outputs": [],
   "source": []
  },
  {
   "cell_type": "code",
   "execution_count": null,
   "metadata": {},
   "outputs": [],
   "source": []
  },
  {
   "cell_type": "code",
   "execution_count": null,
   "metadata": {},
   "outputs": [],
   "source": []
  }
 ],
 "metadata": {
  "kernelspec": {
   "display_name": "Python 3",
   "language": "python",
   "name": "python3"
  }
 },
 "nbformat": 4,
 "nbformat_minor": 2
}
