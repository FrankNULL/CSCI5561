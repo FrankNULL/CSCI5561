{
 "cells": [
  {
   "cell_type": "code",
   "execution_count": 5,
   "metadata": {},
   "outputs": [],
   "source": [
    "import cv2\n",
    "import numpy as np\n",
    "import os\n",
    "import time\n",
    "import scipy.io as sio\n",
    "import matplotlib.pyplot as plt\n",
    "\n",
    "import math\n",
    "import main_functions as main"
   ]
  },
  {
   "cell_type": "code",
   "execution_count": 14,
   "metadata": {},
   "outputs": [
    {
     "name": "stdout",
     "output_type": "stream",
     "text": [
      "(7, 7, 3) (14, 14, 3) (7, 7, 3)\n"
     ]
    }
   ],
   "source": [
    "dl_dy= np.load(\"dl_dy.npy\")\n",
    "x=np.load(\"x.npy\")\n",
    "y= np.load(\"y.npy\")\n",
    "print(dl_dy.shape,x.shape,y.shape)"
   ]
  },
  {
   "cell_type": "code",
   "execution_count": 15,
   "metadata": {},
   "outputs": [],
   "source": [
    "#dl_dy= np.load(\"dl_dy.npy\")\n",
    "#x=np.load(\"x.npy\")\n",
    "#y= np.load(\"y.npy\")\n",
    "dl_dy = np.array([[[1,2],[2,3]]]).reshape((2,2,1))\n",
    "x = np.array([[[1,-1,0,2],[0.5,0,1,-4],[1,0,2,4],[1,2,3,-1]]]).reshape((4,4,1))\n",
    "y = dl_dy+5"
   ]
  },
  {
   "cell_type": "code",
   "execution_count": 16,
   "metadata": {},
   "outputs": [
    {
     "name": "stdout",
     "output_type": "stream",
     "text": [
      "[[1. 0. 0. 2.]\n",
      " [0. 0. 0. 0.]\n",
      " [0. 0. 0. 3.]\n",
      " [0. 2. 0. 0.]]\n",
      "[[1 2]\n",
      " [2 3]]\n",
      "[[ 1.  -1.   0.   2. ]\n",
      " [ 0.5  0.   1.  -4. ]\n",
      " [ 1.   0.   2.   4. ]\n",
      " [ 1.   2.   3.  -1. ]]\n"
     ]
    }
   ],
   "source": [
    "print(pool2x2_backward(dl_dy, x, y).reshape(4,4))\n",
    "print(dl_dy.reshape(2,2))\n",
    "print(x.reshape(4,4))"
   ]
  },
  {
   "cell_type": "code",
   "execution_count": 17,
   "metadata": {},
   "outputs": [],
   "source": [
    "def pool2x2_backward(dl_dy, x, y):\n",
    "    # TO DO\n",
    "    x_size = x.shape\n",
    "\n",
    "    new_size = np.ceil(np.array(x_size)/2)\n",
    "\n",
    "    dl_dx_pre = np.zeros((np.int(2*new_size[0]),np.int(2*new_size[1]),x_size[-1]))\n",
    "\n",
    "    for k in range(x_size[-1]):\n",
    "\n",
    "        K = 2\n",
    "        L = 2\n",
    "        add_1 = np.int(x_size[0]%K)\n",
    "        add_2 = np.int(x_size[1]%L)\n",
    "\n",
    "        x_padding  = np.pad( x[:,:,k], ((0,add_1), (0,add_2)), 'constant', constant_values=0)\n",
    "\n",
    "        end_1 = np.int(new_size[0]*K)\n",
    "        end_2 = np.int(new_size[1]*L)\n",
    "\n",
    "        x_pre = x_padding[:end_1, :end_2].reshape(np.int(new_size[0]), K, np.int(new_size[1]), L)\n",
    "        x_temp = np.zeros_like(x_pre)\n",
    "\n",
    "        for i in range(np.int(new_size[0])):\n",
    "            for j in range(np.int(new_size[1])):\n",
    "                x_temp[i,:,j,:] = np.where( x_pre[i,:,j,:] == np.max( x_pre[i,:,j,:]), dl_dy[i,j,k] , 0)\n",
    "\n",
    "        dl_dx_pre[:,:,k] = x_temp.reshape((np.int(2*new_size[0]),np.int(2*new_size[1])))\n",
    "\n",
    "    \n",
    "    #print(dl_dx_pre,add_1,add_2)\n",
    "    if (add_1!=0):\n",
    "        if (add_2!=0):\n",
    "            dl_dx = dl_dx_pre[:-1, :-1, :]\n",
    "        else:\n",
    "            dl_dx = dl_dx_pre[:-1, :, :] \n",
    "    else:\n",
    "        if (add_2!=0):\n",
    "            dl_dx = dl_dx_pre[:, :-1, :]\n",
    "        else:\n",
    "            dl_dx = dl_dx_pre[:, :, :] \n",
    "        \n",
    "    return dl_dx"
   ]
  },
  {
   "cell_type": "code",
   "execution_count": 18,
   "metadata": {},
   "outputs": [],
   "source": [
    "def im2col_sliding_strided(A, BSZ, stepsize=1):\n",
    "    # Parameters\n",
    "    m,n = A.shape\n",
    "    s0, s1 = A.strides\n",
    "    nrows = m-BSZ[0]+1\n",
    "    ncols = n-BSZ[1]+1\n",
    "    shp = BSZ[0],BSZ[1],nrows,ncols\n",
    "    strd = s0,s1,s0,s1\n",
    "\n",
    "    out_view = np.lib.stride_tricks.as_strided(A, shape=shp, strides=strd)\n",
    "    return out_view.reshape(BSZ[0]*BSZ[1],-1)[:,::stepsize]"
   ]
  },
  {
   "cell_type": "code",
   "execution_count": 53,
   "metadata": {},
   "outputs": [],
   "source": [
    "def conv(x, w_conv, b_conv):\n",
    "    # TO DO\n",
    "    x_shape = x.shape\n",
    "    w_conv_shape = w_conv.shape\n",
    "\n",
    "    y = np.zeros((x_shape[0],x_shape[1],w_conv_shape[-1]))\n",
    "\n",
    "    for id_i in range(x_shape[-1]):\n",
    "        x_padding = np.pad(x[:,:,id_i], (1, 1), 'constant', constant_values=0)\n",
    "\n",
    "        X = im2col_sliding_strided(x_padding, [w_conv_shape[0],w_conv_shape[1]])\n",
    "        print(X)\n",
    "        for id_j in range(w_conv_shape[-1]):\n",
    "            w = np.flip(w_conv[:,:,id_i,id_j].reshape((w_conv_shape[0]*w_conv_shape[1])),axis=0)\n",
    "            print(w)\n",
    "\n",
    "            b = b_conv[:,id_j]\n",
    "\n",
    "            #print(w.shape,X.shape,b_conv.shape)\n",
    "\n",
    "            y[:,:,id_j] = y[:,:,id_j] +  (w @ X - b).reshape((x_shape[0],x_shape[1]))\n",
    "\n",
    "    return y"
   ]
  },
  {
   "cell_type": "code",
   "execution_count": null,
   "metadata": {},
   "outputs": [],
   "source": []
  },
  {
   "cell_type": "code",
   "execution_count": 56,
   "metadata": {},
   "outputs": [
    {
     "name": "stdout",
     "output_type": "stream",
     "text": [
      "[[0 0 0 0 1 2 0 4 5]\n",
      " [0 0 0 1 2 3 4 5 6]\n",
      " [0 0 0 2 3 0 5 6 0]\n",
      " [0 1 2 0 4 5 0 7 8]\n",
      " [1 2 3 4 5 6 7 8 9]\n",
      " [2 3 0 5 6 0 8 9 0]\n",
      " [0 4 5 0 7 8 0 0 0]\n",
      " [4 5 6 7 8 9 0 0 0]\n",
      " [5 6 0 8 9 0 0 0 0]]\n",
      "[ 1  2  1  0  0  0 -1 -2 -1]\n"
     ]
    },
    {
     "data": {
      "text/plain": [
       "array([[-13., -20., -17.],\n",
       "       [-18., -24., -18.],\n",
       "       [ 13.,  20.,  17.]])"
      ]
     },
     "execution_count": 56,
     "metadata": {},
     "output_type": "execute_result"
    }
   ],
   "source": [
    "x = np.array([[[1,2,3],[4,5,6],[7,8,9]]]).reshape((3,3,1))\n",
    "\n",
    "w_conv = (np.array([[[-1,-2,-1],[0,0,0],[1,2,1]]])).reshape((3,3,1,1))\n",
    "\n",
    "b_conv = np.array([[0]]).reshape((1,1))\n",
    "conv(x, w_conv, b_conv).reshape((3,3))"
   ]
  },
  {
   "cell_type": "code",
   "execution_count": null,
   "metadata": {},
   "outputs": [],
   "source": []
  },
  {
   "cell_type": "code",
   "execution_count": null,
   "metadata": {},
   "outputs": [],
   "source": []
  },
  {
   "cell_type": "code",
   "execution_count": null,
   "metadata": {},
   "outputs": [],
   "source": []
  },
  {
   "cell_type": "code",
   "execution_count": null,
   "metadata": {},
   "outputs": [],
   "source": []
  },
  {
   "cell_type": "code",
   "execution_count": null,
   "metadata": {},
   "outputs": [],
   "source": []
  },
  {
   "cell_type": "code",
   "execution_count": null,
   "metadata": {},
   "outputs": [],
   "source": []
  },
  {
   "cell_type": "code",
   "execution_count": 34,
   "metadata": {},
   "outputs": [],
   "source": [
    "x = np.array([[[1,2,3],[2,3,4],[4,5,6]]]).reshape((3,3,1))\n",
    "w_conv = (np.array([[[1,0,2],[0,-1,0],[3,0,4]]])).reshape((3,3,1,1))\n",
    "b_conv = np.array([[0]]).reshape((1,1))"
   ]
  },
  {
   "cell_type": "code",
   "execution_count": 35,
   "metadata": {},
   "outputs": [
    {
     "name": "stdout",
     "output_type": "stream",
     "text": [
      "(3, 3, 1) (3, 3, 1, 1) (1, 1)\n"
     ]
    },
    {
     "data": {
      "text/plain": [
       "array([[11., 20.,  6.],\n",
       "       [22., 40., 13.],\n",
       "       [ 2.,  5., -3.]])"
      ]
     },
     "execution_count": 35,
     "metadata": {},
     "output_type": "execute_result"
    }
   ],
   "source": [
    "print(x.shape, w_conv.shape, b_conv.shape)\n",
    "conv(x, w_conv, b_conv).reshape((3,3))"
   ]
  },
  {
   "cell_type": "code",
   "execution_count": 36,
   "metadata": {},
   "outputs": [
    {
     "name": "stdout",
     "output_type": "stream",
     "text": [
      "[[1 2 3]\n",
      " [2 3 4]\n",
      " [4 5 6]]\n",
      "[[ 1  0  2]\n",
      " [ 0 -1  0]\n",
      " [ 3  0  4]]\n"
     ]
    }
   ],
   "source": [
    "print(x.reshape((3,3)))\n",
    "print(w_conv.reshape((3,3)))"
   ]
  },
  {
   "cell_type": "code",
   "execution_count": 37,
   "metadata": {},
   "outputs": [],
   "source": [
    "x = np.array([[[1,2,3],[4,5,6],[7,8,9]]]).reshape((3,3,1))\n",
    "w_conv = (np.array([[[1,-2,1],[0,0,0],[1,2,1]]])).reshape((3,3,1,1))\n",
    "b_conv = np.array([[0]]).reshape((1,1))"
   ]
  },
  {
   "cell_type": "code",
   "execution_count": 38,
   "metadata": {},
   "outputs": [
    {
     "name": "stdout",
     "output_type": "stream",
     "text": [
      "(3, 3, 1) (3, 3, 1, 1) (1, 1)\n",
      "[[1 2 3]\n",
      " [4 5 6]\n",
      " [7 8 9]]\n",
      "[[ 1 -2  1]\n",
      " [ 0  0  0]\n",
      " [ 1  2  1]]\n"
     ]
    },
    {
     "data": {
      "text/plain": [
       "array([[13., 20., 17.],\n",
       "       [22., 32., 22.],\n",
       "       [-3.,  0., -7.]])"
      ]
     },
     "execution_count": 38,
     "metadata": {},
     "output_type": "execute_result"
    }
   ],
   "source": [
    "print(x.shape, w_conv.shape, b_conv.shape)\n",
    "print(x.reshape((3,3)))\n",
    "print(w_conv.reshape((3,3)))\n",
    "conv(x, w_conv, b_conv).reshape((3,3))"
   ]
  },
  {
   "cell_type": "code",
   "execution_count": null,
   "metadata": {},
   "outputs": [],
   "source": []
  }
 ],
 "metadata": {
  "kernelspec": {
   "display_name": "Python 3",
   "language": "python",
   "name": "python3"
  },
  "language_info": {
   "codemirror_mode": {
    "name": "ipython",
    "version": 3
   },
   "file_extension": ".py",
   "mimetype": "text/x-python",
   "name": "python",
   "nbconvert_exporter": "python",
   "pygments_lexer": "ipython3",
   "version": "3.6.5"
  }
 },
 "nbformat": 4,
 "nbformat_minor": 2
}
