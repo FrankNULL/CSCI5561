{
 "cells": [
  {
   "cell_type": "code",
   "execution_count": 3,
   "metadata": {},
   "outputs": [],
   "source": [
    "import os\n",
    "import numpy as np\n",
    "import cv2\n",
    "import matplotlib.pyplot as plt\n",
    "from sklearn.neighbors import NearestNeighbors\n",
    "from sklearn.cluster import KMeans\n",
    "from sklearn.svm import LinearSVC\n",
    "from scipy import stats\n",
    "from pathlib import Path, PureWindowsPath"
   ]
  },
  {
   "cell_type": "code",
   "execution_count": 4,
   "metadata": {},
   "outputs": [],
   "source": [
    "def extract_dataset_info(data_path):\n",
    "    # extract information from train.txt\n",
    "    f = open(os.path.join(data_path, \"train.txt\"), \"r\")\n",
    "    contents_train = f.readlines()\n",
    "    label_classes, label_train_list, img_train_list = [], [], []\n",
    "    for sample in contents_train:\n",
    "        sample = sample.split()\n",
    "        label, img_path = sample[0], sample[1]\n",
    "        if label not in label_classes:\n",
    "            label_classes.append(label)\n",
    "        label_train_list.append(sample[0])\n",
    "        img_train_list.append(os.path.join(data_path, Path(PureWindowsPath(img_path))))\n",
    "    print('Classes: {}'.format(label_classes))\n",
    "\n",
    "    # extract information from test.txt\n",
    "    f = open(os.path.join(data_path, \"test.txt\"), \"r\")\n",
    "    contents_test = f.readlines()\n",
    "    label_test_list, img_test_list = [], []\n",
    "    for sample in contents_test:\n",
    "        sample = sample.split()\n",
    "        label, img_path = sample[0], sample[1]\n",
    "        label_test_list.append(label)\n",
    "        img_test_list.append(os.path.join(data_path, Path(PureWindowsPath(img_path))))  # you can directly use img_path if you run in Windows\n",
    "\n",
    "    return label_classes, label_train_list, img_train_list, label_test_list, img_test_list"
   ]
  },
  {
   "cell_type": "code",
   "execution_count": 76,
   "metadata": {},
   "outputs": [],
   "source": [
    "def get_tiny_image(img, output_size):\n",
    "    # To do\n",
    "    img_resize = cv2.resize(img, output_size, interpolation = cv2.INTER_AREA)\n",
    "    #normalization\n",
    "    \n",
    "    feature = np.zeros(output_size)\n",
    "    \n",
    "    feature_omean= img_resize- np.mean(img_resize)\n",
    "       \n",
    "    feature = feature_omean / np.linalg.norm(feature_omean.reshape((1,np.prod(feature_omean.shape))))\n",
    "    \n",
    "    return feature"
   ]
  },
  {
   "cell_type": "code",
   "execution_count": 73,
   "metadata": {},
   "outputs": [],
   "source": [
    "def predict_knn(feature_train, label_train, feature_test, k):\n",
    "    # To do\n",
    "    return label_test_pred"
   ]
  },
  {
   "cell_type": "code",
   "execution_count": 7,
   "metadata": {},
   "outputs": [
    {
     "name": "stdout",
     "output_type": "stream",
     "text": [
      "Classes: ['Kitchen', 'Store', 'Bedroom', 'LivingRoom', 'Office', 'Industrial', 'Suburb', 'InsideCity', 'TallBuilding', 'Street', 'Highway', 'OpenCountry', 'Coast', 'Mountain', 'Forest']\n"
     ]
    }
   ],
   "source": [
    "label_classes, label_train_list, img_train_list, label_test_list, img_test_list = extract_dataset_info(\"./scene_classification_data\")"
   ]
  },
  {
   "cell_type": "code",
   "execution_count": 74,
   "metadata": {},
   "outputs": [],
   "source": [
    "#label_classes"
   ]
  },
  {
   "cell_type": "code",
   "execution_count": 119,
   "metadata": {},
   "outputs": [],
   "source": [
    "img = cv2.imread(img_train_list[0],0)\n",
    "\n",
    "#plt.imshow(img, cmap='gray', vmin=0, vmax=255)\n",
    "\n",
    "\n",
    "sift1 = cv2.xfeatures2d.SIFT_create()\n",
    "kp1, des1 = sift1.detectAndCompute(img,None)\n"
   ]
  },
  {
   "cell_type": "code",
   "execution_count": 100,
   "metadata": {},
   "outputs": [],
   "source": [
    "k = 10\n",
    "output_size= (16,16)\n",
    "feature_vec = []\n",
    "for name in img_train_list :\n",
    "    img = cv2.imread(name,0)\n",
    "    feature = get_tiny_image(img, output_size)\n",
    "    feature_vec.append( feature.reshape(np.prod(feature.shape)))"
   ]
  },
  {
   "cell_type": "code",
   "execution_count": 101,
   "metadata": {},
   "outputs": [],
   "source": [
    "feature_test_vec = []\n",
    "for name in img_test_list :\n",
    "    img = cv2.imread(name,0)\n",
    "    feature_test = get_tiny_image(img, output_size)\n",
    "    feature_test_vec.append( feature_test.reshape(np.prod(feature_test.shape)))"
   ]
  },
  {
   "cell_type": "code",
   "execution_count": 102,
   "metadata": {},
   "outputs": [],
   "source": [
    "#img_train_final = normalize_img(feature_vec)\n",
    "#img_test_final = normalize_img(feature_test_vec)\n",
    "img_train_final = feature_vec\n",
    "img_test_final = feature_test_vec"
   ]
  },
  {
   "cell_type": "code",
   "execution_count": 103,
   "metadata": {},
   "outputs": [
    {
     "name": "stdout",
     "output_type": "stream",
     "text": [
      "[ 0  0  0 ... 14 14 14]\n"
     ]
    }
   ],
   "source": [
    "label_train_set = []\n",
    "for item in label_train_list:\n",
    "    label_train_set.append(label_classes.index(item))\n",
    "    \n",
    "label_train_set = np.array(label_train_set)\n",
    "print(label_train_set)\n"
   ]
  },
  {
   "cell_type": "code",
   "execution_count": 104,
   "metadata": {},
   "outputs": [
    {
     "name": "stdout",
     "output_type": "stream",
     "text": [
      "[ 0  0  0 ... 14 14 14]\n"
     ]
    }
   ],
   "source": [
    "label_test_set = []\n",
    "for item in label_test_list:\n",
    "    label_test_set.append(label_classes.index(item))\n",
    "    \n",
    "label_test_set = np.array(label_test_set)\n",
    "print(label_test_set)"
   ]
  },
  {
   "cell_type": "code",
   "execution_count": 105,
   "metadata": {},
   "outputs": [],
   "source": [
    "#img_test_final"
   ]
  },
  {
   "cell_type": "code",
   "execution_count": 106,
   "metadata": {},
   "outputs": [],
   "source": [
    "nbrs = NearestNeighbors(algorithm='auto').fit(img_train_final)\n",
    "    \n",
    "distances_map,indices_map =nbrs.kneighbors(img_test_final,n_neighbors=k)"
   ]
  },
  {
   "cell_type": "code",
   "execution_count": 96,
   "metadata": {},
   "outputs": [
    {
     "name": "stdout",
     "output_type": "stream",
     "text": [
      "12\n"
     ]
    }
   ],
   "source": [
    "#print(indices)\n",
    "#print(indices[0,:])\n",
    "counts = np.bincount(label_train_set[indices[0,:]])\n",
    "#print(counts)\n",
    "print(np.argmax(counts))\n",
    "\n",
    "#label_predict ="
   ]
  },
  {
   "cell_type": "code",
   "execution_count": 97,
   "metadata": {},
   "outputs": [],
   "source": [
    "#neigh = NearestNeighbors(n_neighbors=k)\n",
    "#neigh.fit(img_train_final) \n",
    "#NearestNeighbors(algorithm='auto')\n"
   ]
  },
  {
   "cell_type": "code",
   "execution_count": 98,
   "metadata": {},
   "outputs": [],
   "source": [
    "#map = neigh.kneighbors(np.array([img_test_final]))\n",
    "#distances_map,indices_map = neigh.kneighbors(img_test_final)"
   ]
  },
  {
   "cell_type": "code",
   "execution_count": 99,
   "metadata": {},
   "outputs": [
    {
     "name": "stdout",
     "output_type": "stream",
     "text": [
      "[[1996.27 1996.27 1996.28 ... 1996.31 1996.31 1996.31]\n",
      " [2309.12 2309.13 2309.14 ... 2309.16 2309.16 2309.16]\n",
      " [2495.86 2495.87 2495.87 ... 2495.88 2495.88 2495.89]\n",
      " ...\n",
      " [1674.18 1674.19 1674.2  ... 1674.21 1674.21 1674.21]\n",
      " [1641.86 1641.94 1641.96 ... 1641.99 1641.99 1641.99]\n",
      " [1704.93 1704.95 1704.95 ... 1704.95 1704.95 1704.95]] [[1480 1204 1301 ... 1188 1090 1464]\n",
      " [ 612  923 1434 ...  985  683  930]\n",
      " [ 607 1286  627 ... 1255 1288  695]\n",
      " ...\n",
      " [ 901  900  958 ...  991  954 1084]\n",
      " [1454  806  859 ... 1293 1271  203]\n",
      " [1203 1212  508 ... 1133  940  502]]\n"
     ]
    }
   ],
   "source": [
    "print(distances_map,indices_map)"
   ]
  },
  {
   "cell_type": "code",
   "execution_count": 87,
   "metadata": {},
   "outputs": [],
   "source": [
    "class_index = np.zeros(len(indices_map))\n",
    "for num in range(len(indices_map)):\n",
    "    class_index[num] = np.argmax(np.bincount(label_train_set[indices_map[num,:]]))"
   ]
  },
  {
   "cell_type": "code",
   "execution_count": 88,
   "metadata": {},
   "outputs": [
    {
     "data": {
      "text/plain": [
       "array([12.,  9.,  6., ...,  9.,  8.,  5.])"
      ]
     },
     "execution_count": 88,
     "metadata": {},
     "output_type": "execute_result"
    }
   ],
   "source": [
    "class_index"
   ]
  },
  {
   "cell_type": "code",
   "execution_count": 89,
   "metadata": {},
   "outputs": [],
   "source": [
    "from sklearn.metrics import confusion_matrix"
   ]
  },
  {
   "cell_type": "code",
   "execution_count": 90,
   "metadata": {},
   "outputs": [],
   "source": [
    "y_true = label_test_set\n",
    "y_pred = class_index\n",
    "confusion_map = confusion_matrix(y_true, y_pred)\n",
    "confusion_rate = np.trace(confusion_map)/np.sum(np.sum(confusion_map))\n"
   ]
  },
  {
   "cell_type": "code",
   "execution_count": 91,
   "metadata": {},
   "outputs": [
    {
     "name": "stdout",
     "output_type": "stream",
     "text": [
      "[[ 7  2  9  7 11  3  6  3  1  9 11  9 11 10  1]\n",
      " [ 8  2 12  5  0  5  3  2  5 11 10  6 18  7  6]\n",
      " [ 5  1 15  6  4 10  3  1  2  6 23  6 11  5  2]\n",
      " [ 1  0 12  9  2  3  3  4  5 13 27  4  7  7  3]\n",
      " [ 5  0  7  4 17 10  1  1  3  5 25  0 13  6  3]\n",
      " [ 3  2  2  3  2  7  2  2  4  6 38 11 15  3  0]\n",
      " [ 2  1  1  1  1  1 49  1  0 16 10  8  7  2  0]\n",
      " [ 6  0  2  1  4  6  9  7  4  7 11 16 17  6  4]\n",
      " [ 8  2  7  5  9  8  3  0 16  5 17  1  8 10  1]\n",
      " [ 3  0  2  2  0  2 13  3  0 50  7  8  5  3  2]\n",
      " [ 1  0  0  1  0  0  2  0  0  0 75 14  4  2  1]\n",
      " [ 0  1  1  0  0  0  5  7  0  2 23 32 23  6  0]\n",
      " [ 0  1  1  0  0  1  7  6  0  4 29 15 26  8  2]\n",
      " [ 4  1  2  4  0  1  4  4  2  4 14 18 23 17  2]\n",
      " [ 4  3  5  4  6  7  8  7  4 11  5 11  9  8  8]]\n"
     ]
    }
   ],
   "source": [
    "print(confusion_map)"
   ]
  },
  {
   "cell_type": "code",
   "execution_count": 92,
   "metadata": {},
   "outputs": [
    {
     "name": "stdout",
     "output_type": "stream",
     "text": [
      "0.22466666666666665\n"
     ]
    }
   ],
   "source": [
    "print(confusion_rate)"
   ]
  },
  {
   "cell_type": "code",
   "execution_count": 93,
   "metadata": {
    "scrolled": true
   },
   "outputs": [
    {
     "name": "stdout",
     "output_type": "stream",
     "text": [
      "Confusion matrix, without normalization\n",
      "[[ 7  2  9  7 11  3  6  3  1  9 11  9 11 10  1]\n",
      " [ 8  2 12  5  0  5  3  2  5 11 10  6 18  7  6]\n",
      " [ 5  1 15  6  4 10  3  1  2  6 23  6 11  5  2]\n",
      " [ 1  0 12  9  2  3  3  4  5 13 27  4  7  7  3]\n",
      " [ 5  0  7  4 17 10  1  1  3  5 25  0 13  6  3]\n",
      " [ 3  2  2  3  2  7  2  2  4  6 38 11 15  3  0]\n",
      " [ 2  1  1  1  1  1 49  1  0 16 10  8  7  2  0]\n",
      " [ 6  0  2  1  4  6  9  7  4  7 11 16 17  6  4]\n",
      " [ 8  2  7  5  9  8  3  0 16  5 17  1  8 10  1]\n",
      " [ 3  0  2  2  0  2 13  3  0 50  7  8  5  3  2]\n",
      " [ 1  0  0  1  0  0  2  0  0  0 75 14  4  2  1]\n",
      " [ 0  1  1  0  0  0  5  7  0  2 23 32 23  6  0]\n",
      " [ 0  1  1  0  0  1  7  6  0  4 29 15 26  8  2]\n",
      " [ 4  1  2  4  0  1  4  4  2  4 14 18 23 17  2]\n",
      " [ 4  3  5  4  6  7  8  7  4 11  5 11  9  8  8]]\n"
     ]
    },
    {
     "data": {
      "text/plain": [
       "<matplotlib.axes._subplots.AxesSubplot at 0x11dbd7226a0>"
      ]
     },
     "execution_count": 93,
     "metadata": {},
     "output_type": "execute_result"
    },
    {
     "data": {
      "image/png": "[encoded data removed]",
      "text/plain": [
       "<Figure size 432x288 with 2 Axes>"
      ]
     },
     "metadata": {
      "needs_background": "light"
     },
     "output_type": "display_data"
    }
   ],
   "source": [
    "def plot_confusion_matrix(y_true, y_pred, classes,\n",
    "                          normalize=False,\n",
    "                          title=None,\n",
    "                          cmap=plt.cm.Blues):\n",
    "    \"\"\"\n",
    "    This function prints and plots the confusion matrix.\n",
    "    Normalization can be applied by setting `normalize=True`.\n",
    "    \"\"\"\n",
    "    if not title:\n",
    "        if normalize:\n",
    "            title = 'Normalized confusion matrix'\n",
    "        else:\n",
    "            title = 'Confusion matrix, without normalization'\n",
    "\n",
    "    # Compute confusion matrix\n",
    "    cm = confusion_matrix(y_true, y_pred)\n",
    "    # Only use the labels that appear in the data\n",
    "    if normalize:\n",
    "        cm = cm.astype('float') / cm.sum(axis=1)[:, np.newaxis]\n",
    "        print(\"Normalized confusion matrix\")\n",
    "    else:\n",
    "        print('Confusion matrix, without normalization')\n",
    "\n",
    "    print(cm)\n",
    "\n",
    "    fig, ax = plt.subplots()\n",
    "    im = ax.imshow(cm, interpolation='nearest', cmap=cmap)\n",
    "    ax.figure.colorbar(im, ax=ax)\n",
    "    # We want to show all ticks...\n",
    "    ax.set(xticks=np.arange(cm.shape[1]),\n",
    "           yticks=np.arange(cm.shape[0]),\n",
    "           # ... and label them with the respective list entries\n",
    "           xticklabels=classes, yticklabels=classes,\n",
    "           title=title,\n",
    "           ylabel='True label',\n",
    "           xlabel='Predicted label')\n",
    "\n",
    "    # Rotate the tick labels and set their alignment.\n",
    "    plt.setp(ax.get_xticklabels(), rotation=45, ha=\"right\",\n",
    "             rotation_mode=\"anchor\")\n",
    "\n",
    "    # Loop over data dimensions and create text annotations.\n",
    "    fmt = '.2f' if normalize else 'd'\n",
    "    thresh = cm.max() / 2.\n",
    "    for i in range(cm.shape[0]):\n",
    "        for j in range(cm.shape[1]):\n",
    "            ax.text(j, i, format(cm[i, j], fmt),\n",
    "                    ha=\"center\", va=\"center\",\n",
    "                    color=\"white\" if cm[i, j] > thresh else \"black\")\n",
    "    fig.tight_layout()\n",
    "    return ax\n",
    "\n",
    "\n",
    "np.set_printoptions(precision=2)\n",
    "\n",
    "# Plot non-normalized confusion matrix\n",
    "plot_confusion_matrix(y_true, y_pred, classes=label_classes,\n",
    "                      title='Confusion matrix, without normalization')\n",
    "\n",
    "# Plot normalized confusion matrix\n",
    "#plot_confusion_matrix(y_true, y_pred, classes=label_classes, normalize=True,\n",
    "#                      title='Normalized confusion matrix')"
   ]
  },
  {
   "cell_type": "code",
   "execution_count": 94,
   "metadata": {},
   "outputs": [],
   "source": [
    "def normalize_img(feature_vec):\n",
    "    img_nonzeromean = np.array(feature_vec)\n",
    "    img_nonunit = img_nonzeromean\n",
    "    img_final = np.zeros(img_nonzeromean.shape)\n",
    "\n",
    "    img_ave = np.mean(img_nonzeromean)\n",
    "\n",
    "    img_nonunit = img_nonzeromean - img_ave\n",
    "\n",
    "    for i in range(len(img_nonzeromean)):\n",
    "        img_final[i,:] = img_nonunit[i,:]/np.linalg.norm(img_nonunit[i,:])\n",
    "    \n",
    "    return img_final\n",
    "    "
   ]
  },
  {
   "cell_type": "code",
   "execution_count": null,
   "metadata": {},
   "outputs": [],
   "source": []
  },
  {
   "cell_type": "code",
   "execution_count": null,
   "metadata": {},
   "outputs": [],
   "source": []
  }
 ],
 "metadata": {
  "kernelspec": {
   "display_name": "Python 3",
   "language": "python",
   "name": "python3"
  },
  "language_info": {
   "codemirror_mode": {
    "name": "ipython",
    "version": 3
   },
   "file_extension": ".py",
   "mimetype": "text/x-python",
   "name": "python",
   "nbconvert_exporter": "python",
   "pygments_lexer": "ipython3",
   "version": "3.6.9"
  }
 },
 "nbformat": 4,
 "nbformat_minor": 2
}
