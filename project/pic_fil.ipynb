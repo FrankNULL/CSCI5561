{
 "cells": [
  {
   "cell_type": "code",
   "execution_count": null,
   "metadata": {},
   "outputs": [],
   "source": [
    "function [ ssd_map ] = ssd_patch_2d( I, T )\n",
    "    mask = T >= 0; % -1 represents empty\n",
    "    ssd_map = filter2(mask, I .* I, 'valid') + sum(sum(T .* T)) - 2 * filter2(mask .* T, I, 'valid')\n",
    "end"
   ]
  },
  {
   "cell_type": "code",
   "execution_count": 1,
   "metadata": {},
   "outputs": [
    {
     "ename": "IndentationError",
     "evalue": "unexpected indent (<ipython-input-1-338906b5571a>, line 3)",
     "output_type": "error",
     "traceback": [
      "\u001b[0;36m  File \u001b[0;32m\"<ipython-input-1-338906b5571a>\"\u001b[0;36m, line \u001b[0;32m3\u001b[0m\n\u001b[0;31m    ssd_map_r = ssd_patch_2d(I(:, :, 1), T(:, :, 1));\u001b[0m\n\u001b[0m    ^\u001b[0m\n\u001b[0;31mIndentationError\u001b[0m\u001b[0;31m:\u001b[0m unexpected indent\n"
     ]
    }
   ],
   "source": [
    "function [ ssd_map ] = ssd_patch(I, T)\n",
    "\n",
    "    ssd_map_r = ssd_patch_2d(I(:, :, 1), T(:, :, 1));\n",
    "    ssd_map_g = ssd_patch_2d(I(:, :, 2), T(:, :, 2));\n",
    "    ssd_map_b = ssd_patch_2d(I(:, :, 3), T(:, :, 3));\n",
    "    ssd_map = ssd_map_r + ssd_map_g + ssd_map_b;\n",
    "    \n",
    "    ssd_map = normalize_2d_matrix(ssd_map);"
   ]
  },
  {
   "cell_type": "code",
   "execution_count": null,
   "metadata": {},
   "outputs": [],
   "source": [
    "[ ssd_map ] = set_forbid_region( ssd_map, target_mask, patch_size )\n",
    "    LARGE_CONST = 100;\n",
    "    hp_size = floor(patch_size / 2);\n",
    "    forbid_area = imdilate(target_mask, ones(patch_size, patch_size));\n",
    "    ssd_map = ssd_map + (forbid_area(hp_size + 1 : size(target_mask, 1) - hp_size,...\n",
    "          hp_size + 1 : size(target_mask, 2) - hp_size) * LARGE_CONST);\n",
    "\n",
    "end"
   ]
  },
  {
   "cell_type": "code",
   "execution_count": null,
   "metadata": {},
   "outputs": [],
   "source": [
    " function p_norm = point_norm(map, y, x )\n",
    "    rect = map(y - 1 : y + 1, x - 1 : x + 1);\n",
    "    dx=diff(rect(:,ceil(end/2)),2);\n",
    "    dy=diff(rect(ceil(end/2),:),2);\n",
    "    vec=[dx;dy];\n",
    "    \n",
    "    if dx == 0 && dy == 0\n",
    "        p_norm = [1; 1] / norm([1; 1]); \n",
    "    else\n",
    "        p_norm = vec / norm(vec);\n",
    "    end\n",
    "end\n",
    "\n"
   ]
  },
  {
   "cell_type": "code",
   "execution_count": null,
   "metadata": {},
   "outputs": [],
   "source": [
    "function [ value ] = point_fil( I, h, hp_size, y, x )\n",
    "\n",
    "value = sum(sum(I(y - hp_size : y + hp_size, x - hp_size : x + hp_size) .*  h));\n",
    "\n",
    "enda"
   ]
  },
  {
   "cell_type": "code",
   "execution_count": null,
   "metadata": {},
   "outputs": [],
   "source": [
    "function [ norm_m ] = normalize_2d_matrix( m )\n",
    "    norm_m = (m - min(min(m))) / (max(max((m)) - min(min(m))));\n",
    "end"
   ]
  },
  {
   "cell_type": "code",
   "execution_count": null,
   "metadata": {},
   "outputs": [],
   "source": [
    "function [ isoV ] = isophote(im, y, x)\n",
    "    window = im(y - 1 : y + 1, x - 1 : x + 1);\n",
    "    center_value = window(2, 2);\n",
    "    window(window == -1) = center_value;\n",
    "    fx = window(2, 3) - window(2, 1);\n",
    "    fy = window(3, 2) - window(1, 2);\n",
    "    if fx == 0 && fy == 0\n",
    "       isoV = [0; 0]; \n",
    "    else\n",
    "        I = sqrt(fx^2 + fy^2);\n",
    "        theta = acot(fy / fx);\n",
    "        [isoV_x, isoV_y] = pol2cart(theta, I); \n",
    "        isoV = [isoV_x; isoV_y];\n",
    "    end\n",
    "end"
   ]
  },
  {
   "cell_type": "code",
   "execution_count": null,
   "metadata": {},
   "outputs": [],
   "source": [
    "function [ syn_im ] = go( I, mask, patch_size, tol)\n",
    "    I = repmat((~mask), 1, 1, 3) .* I;\n",
    "    syn_im = I;\n",
    "    syn_im(syn_im == 0) = -1;\n",
    "    hp_size = floor(patch_size / 2);\n",
    "    confidence_map = double(~mask);\n",
    "    i = 1;\n",
    "    while any(mask(:) == 1)\n",
    "        [t_candi_x, t_candi_y] = fill_front(mask);\n",
    "        [template, y, x, confidence] = choose_template_criminisi(syn_im, t_candi_y, t_candi_x, mask, confidence_map, patch_size);\n",
    "        ssd_map = ssd_patch(syn_im, template);\n",
    "        ssd_map = set_forbid_region( ssd_map, mask, patch_size );\n",
    "        patch = choose_sample(ssd_map, tol, syn_im, patch_size, 0.0001); \n",
    "        tplt_mask = template >= 0;\n",
    "        patch = tplt_mask .* template + ~tplt_mask .* patch;\n",
    "        syn_im(y - hp_size : y + hp_size, x - hp_size : x + hp_size, :) = patch;\n",
    "        figure(9)\n",
    "        set(gcf,'Position',[700,0,1300,800]);\n",
    "        imagesc(syn_im);\n",
    "        %pause(0.1);\n",
    "        \n",
    "        mask(y - hp_size : y + hp_size, x - hp_size : x + hp_size) = 0;\n",
    "        confidence_map(y - hp_size : y + hp_size, x - hp_size : x + hp_size) =...\n",
    "            confidence_map(y - hp_size : y + hp_size, x - hp_size : x + hp_size)...\n",
    "            + ((~tplt_mask(:, :, 1)) * confidence);\n",
    "        i = i + 1;\n",
    "    end\n",
    "end\n",
    "\n"
   ]
  },
  {
   "cell_type": "code",
   "execution_count": null,
   "metadata": {},
   "outputs": [],
   "source": [
    "function [ err_patch ] = find_err_patch_2D( T, patch, overlap)\n",
    "    diff = T(1 : overlap, :) - patch(1 : overlap, :);\n",
    "    err_patch = diff .* diff;\n",
    "\n",
    "\n",
    "end"
   ]
  },
  {
   "cell_type": "code",
   "execution_count": null,
   "metadata": {},
   "outputs": [],
   "source": [
    "function [ err_patch ] = find_err_patch( T, patch, overlap)\n",
    "    err_patch_r = find_err_patch_2D( T(:, :, 1), patch(:, :, 1), overlap);\n",
    "    err_patch_g = find_err_patch_2D( T(:, :, 2), patch(:, :, 2), overlap);\n",
    "    err_patch_b = find_err_patch_2D( T(:, :, 3), patch(:, :, 3), overlap);\n",
    "    err_patch = err_patch_r + err_patch_g + err_patch_b;\n",
    "   \n",
    "end"
   ]
  },
  {
   "cell_type": "code",
   "execution_count": null,
   "metadata": {},
   "outputs": [],
   "source": [
    "function [ mask ] = find_cut_mask(template, patch, overlap)\n",
    "    t_size = size(template, 1);\n",
    "    mask = zeros(t_size);\n",
    "    mask_up = zeros(overlap, t_size);\n",
    "    mask_left = zeros(t_size, overlap);\n",
    "    is_up = nnz(template(1 : overlap, ceil(t_size / 2), 1) >= 0);\n",
    "    is_left = nnz(template(ceil(t_size / 2), 1 : overlap, 1) >= 0);\n",
    "    if is_up > 0\n",
    "        err_patch = find_err_patch(template, patch, overlap);\n",
    "        mask_up = cut_dp(err_patch);\n",
    "    end\n",
    "    if is_left > 0\n",
    "        err_patch = find_err_patch(permute(template, [2 1 3]), permute(patch, [2 1 3]), overlap);\n",
    "        mask_left = cut_dp(err_patch)';\n",
    "    end\n",
    "    mask(1 : overlap, :) = mask(1 : overlap, :) | mask_up;\n",
    "    mask(:, 1 : overlap) = mask(:, 1 : overlap) | mask_left;\n",
    "    mask;\n",
    "\n",
    "end"
   ]
  },
  {
   "cell_type": "code",
   "execution_count": null,
   "metadata": {},
   "outputs": [],
   "source": [
    "function [ front_x, front_y ] = fill_front( target_mask )\n",
    "    front = imdilate(target_mask, ones(3,3)) & ~target_mask;\n",
    "    [front_y, front_x] = find(front);\n",
    "end"
   ]
  },
  {
   "cell_type": "code",
   "execution_count": null,
   "metadata": {},
   "outputs": [],
   "source": [
    "function [ template, y, x, conf] = choose_template_criminisi(I, t_candi_y, t_candi_x, target_mask, confidence_map,  patch_size)\n",
    "   \n",
    "    data = zeros(size(t_candi_y));\n",
    "    confidence = zeros(size(t_candi_y));\n",
    "    hp_size = floor(patch_size / 2);\n",
    "    \n",
    "    for i = 1 : size(t_candi_y, 1)\n",
    "        yy = t_candi_y(i); xx = t_candi_x(i);\n",
    "        p_norm = point_norm(target_mask, yy, xx);\n",
    "        iso_v = isophote(I(:, :, 1), yy, xx);\n",
    "        %confidence(i) = point_fil(confidence_map, ones(size(patch_size)), hp_size, yy, xx) / (patch_size^2);\n",
    "        h=ones(size(patch_size));\n",
    "        confidence(i) = sum(sum(confidence_map(yy - hp_size : yy + hp_size, xx - hp_size : xx + hp_size) .*  h)) / (patch_size^2);\n",
    "        data(i) = abs(dot(iso_v, p_norm(:, 1)));\n",
    "    end\n",
    "    priority = confidence + data;\n",
    "    [~, sorted_id] = sort(priority, 'descend');\n",
    "    t_candi_y = t_candi_y(sorted_id);\n",
    "    t_candi_x = t_candi_x(sorted_id);\n",
    "    confidence = confidence(sorted_id);\n",
    "    data = data(sorted_id);\n",
    "    y = t_candi_y(1); x = t_candi_x(1);\n",
    "    conf = confidence(1);\n",
    "    template = I(y - hp_size : y + hp_size, x - hp_size : x + hp_size, : );\n",
    "\n",
    "\n",
    "end"
   ]
  },
  {
   "cell_type": "code",
   "execution_count": null,
   "metadata": {},
   "outputs": [],
   "source": [
    "function [patch] = choose_sample( ssd_map, tol, I, patch_size, small_cost_value)\n",
    "    min_c = min(min(ssd_map));\n",
    "    min_c = max(min_c,small_cost_value);\n",
    "    [y, x] = find(ssd_map <= min_c * (1 + tol));\n",
    "    index = randi(size(y, 1));\n",
    "    hp_size = floor(patch_size / 2);\n",
    "    y = y(index) + hp_size; % transfrom to I coordinate\n",
    "    x = x(index) + hp_size;\n",
    "    patch = I((y - hp_size) : (y + hp_size), (x - hp_size) : (x + hp_size), :);\n",
    "end"
   ]
  },
  {
   "cell_type": "code",
   "execution_count": null,
   "metadata": {},
   "outputs": [],
   "source": [
    "close all; % closes all figures\n",
    "clear;\n",
    "clc\n",
    "img = imread('chi.png');\n",
    "img_ori = imread('chi_ori.png');\n",
    "im = im2single(img);\n",
    "In=figure('position', [0, 0, 1300, 800]);\n",
    "imagesc(img_ori);\n",
    "[row, col, channel] = size(im);\n",
    "patch_size =20;   \n",
    "mask = zeros(row,col);\n",
    "for i=1:1:row\n",
    "    for j=1:1:col\n",
    "        if img(i,j,:) == [255,255,255]\n",
    "            mask(i,j) = 1;\n",
    "        end\n",
    "    end\n",
    "end\n",
    "mask = logical(mask);\n",
    "go(im, mask, patch_size, 0.01);"
   ]
  }
 ],
 "metadata": {
  "kernelspec": {
   "display_name": "Python 3",
   "language": "python",
   "name": "python3"
  },
  "language_info": {
   "codemirror_mode": {
    "name": "ipython",
    "version": 3
   },
   "file_extension": ".py",
   "mimetype": "text/x-python",
   "name": "python",
   "nbconvert_exporter": "python",
   "pygments_lexer": "ipython3",
   "version": "3.7.1"
  }
 },
 "nbformat": 4,
 "nbformat_minor": 2
}
