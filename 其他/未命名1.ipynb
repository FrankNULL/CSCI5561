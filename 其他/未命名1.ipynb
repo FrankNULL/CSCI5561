{
 "cells": [
  {
   "cell_type": "code",
   "execution_count": null,
   "metadata": {},
   "outputs": [],
   "source": [
    "import os\n",
    "\n",
    "file_path = '/Users/st2yang/Documents/ParkCVLectures/urls.txt'\n",
    "\n",
    "url_links = [line.rstrip('\\n') for line in open(file_path)]\n",
    "\n",
    "for url_link in url_links:\n",
    "    save_name = url_link.split('/')[-2][7:11]+'.mp4'\n",
    "    os.system('ffmpeg -i '+ url_link + ' -bsf:a aac_adtstoasc -vcodec copy -c copy -crf 50 ' + save_name)"
   ]
  }
 ],
 "metadata": {
  "kernelspec": {
   "display_name": "Python 3",
   "language": "python",
   "name": "python3"
  },
  "language_info": {
   "codemirror_mode": {
    "name": "ipython",
    "version": 3
   },
   "file_extension": ".py",
   "mimetype": "text/x-python",
   "name": "python",
   "nbconvert_exporter": "python",
   "pygments_lexer": "ipython3",
   "version": "3.7.1"
  }
 },
 "nbformat": 4,
 "nbformat_minor": 2
}
