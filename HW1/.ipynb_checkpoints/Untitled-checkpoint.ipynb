{
 "cells": [
  {
   "cell_type": "code",
   "execution_count": 1,
   "metadata": {},
   "outputs": [],
   "source": [
    "import cv2\n",
    "import numpy as np\n",
    "import matplotlib.pyplot as plt"
   ]
  },
  {
   "cell_type": "code",
   "execution_count": 2,
   "metadata": {},
   "outputs": [],
   "source": [
    "def get_differential_filter(im):\n",
    "    # To do\n",
    "    kernel_x = np.tile(np.array([1,0,-1]),(3,1))\n",
    "    kernel_y = np.tile(np.vstack(np.array([1,0,-1])),3)\n",
    "    im = im.astype('float') / 255.0\n",
    "    \n",
    "    \n",
    "    return filter_x, filter_y"
   ]
  },
  {
   "cell_type": "code",
   "execution_count": 3,
   "metadata": {},
   "outputs": [
    {
     "ename": "NameError",
     "evalue": "name 'filter_x' is not defined",
     "output_type": "error",
     "traceback": [
      "\u001b[0;31m---------------------------------------------------------------------------\u001b[0m",
      "\u001b[0;31mNameError\u001b[0m                                 Traceback (most recent call last)",
      "\u001b[0;32m<ipython-input-3-653d590bb951>\u001b[0m in \u001b[0;36m<module>\u001b[0;34m\u001b[0m\n\u001b[1;32m      1\u001b[0m \u001b[0mim\u001b[0m \u001b[0;34m=\u001b[0m \u001b[0mcv2\u001b[0m\u001b[0;34m.\u001b[0m\u001b[0mimread\u001b[0m\u001b[0;34m(\u001b[0m\u001b[0;34m'einstein.jpg'\u001b[0m\u001b[0;34m,\u001b[0m \u001b[0;36m0\u001b[0m\u001b[0;34m)\u001b[0m\u001b[0;34m\u001b[0m\u001b[0;34m\u001b[0m\u001b[0m\n\u001b[0;32m----> 2\u001b[0;31m \u001b[0mget_differential_filter\u001b[0m\u001b[0;34m(\u001b[0m\u001b[0mim\u001b[0m\u001b[0;34m)\u001b[0m\u001b[0;34m\u001b[0m\u001b[0;34m\u001b[0m\u001b[0m\n\u001b[0m",
      "\u001b[0;32m<ipython-input-2-220e64af2586>\u001b[0m in \u001b[0;36mget_differential_filter\u001b[0;34m(im)\u001b[0m\n\u001b[1;32m      6\u001b[0m \u001b[0;34m\u001b[0m\u001b[0m\n\u001b[1;32m      7\u001b[0m \u001b[0;34m\u001b[0m\u001b[0m\n\u001b[0;32m----> 8\u001b[0;31m     \u001b[0;32mreturn\u001b[0m \u001b[0mfilter_x\u001b[0m\u001b[0;34m,\u001b[0m \u001b[0mfilter_y\u001b[0m\u001b[0;34m\u001b[0m\u001b[0;34m\u001b[0m\u001b[0m\n\u001b[0m",
      "\u001b[0;31mNameError\u001b[0m: name 'filter_x' is not defined"
     ]
    }
   ],
   "source": [
    "im = cv2.imread('einstein.jpg', 0)\n",
    "get_differential_filter(im)"
   ]
  },
  {
   "cell_type": "code",
   "execution_count": 7,
   "metadata": {},
   "outputs": [
    {
     "ename": "SyntaxError",
     "evalue": "invalid character in identifier (<ipython-input-7-997ebd7910cd>, line 18)",
     "output_type": "error",
     "traceback": [
      "\u001b[0;36m  File \u001b[0;32m\"<ipython-input-7-997ebd7910cd>\"\u001b[0;36m, line \u001b[0;32m18\u001b[0m\n\u001b[0;31m    filter_x[i-1,j-1] = np.corrcoef(cell.reshape(1，cell.size),kernel_x.reshape(1，kernel_x.size))\u001b[0m\n\u001b[0m                                                      ^\u001b[0m\n\u001b[0;31mSyntaxError\u001b[0m\u001b[0;31m:\u001b[0m invalid character in identifier\n"
     ]
    }
   ],
   "source": [
    "im = cv2.imread('einstein.jpg', 0)\n",
    "kernel_x = np.tile(np.array([1,0,-1]),(3,1))\n",
    "kernel_y = np.tile(np.vstack(np.array([1,0,-1])),3)\n",
    "im = im.astype('float') / 255.0\n",
    "im_zero_pad = np.pad(im, ((1,1),(1,1)), 'constant')\n",
    "print(kernel_y)\n",
    "filter_x = np.zeros(im.shape)\n",
    "filter_y = np.zeros(im.shape)\n",
    "\n",
    "height,width = im_zero_pad.shape\n",
    "\n",
    "\n",
    "for i in range(1,height-1,1):\n",
    "    for j in range(1,width-1,1):\n",
    "        cell = np.array([[im_zero_pad[i-1,j-1],im_zero_pad[i-1,j],im_zero_pad[i-1,j+1]],\n",
    "                        [im_zero_pad[i,j-1],im_zero_pad[i,j],im_zero_pad[i,j+1]],\n",
    "                        [im_zero_pad[i+1,j-1],im_zero_pad[i+1,j],im_zero_pad[i+1,j+1]]])\n",
    "        filter_x[i-1,j-1] = np.corrcoef(cell.reshape(1，cell.size),kernel_x.reshape(1，kernel_x.size))\n",
    "        filter_y[i-1,j-1] = np.corrcoef(cell.reshape(1，cell.size),kernel_y.reshape(1，kernel_y.size))"
   ]
  },
  {
   "cell_type": "code",
   "execution_count": 43,
   "metadata": {},
   "outputs": [
    {
     "name": "stdout",
     "output_type": "stream",
     "text": [
      "[[0.2745098  0.27058824 0.        ]\n",
      " [0.2745098  0.2627451  0.        ]\n",
      " [0.         0.         0.        ]]\n"
     ]
    },
    {
     "data": {
      "text/plain": [
       "array([2, 3, 4])"
      ]
     },
     "execution_count": 43,
     "metadata": {},
     "output_type": "execute_result"
    }
   ],
   "source": [
    "print(cell)\n",
    "a = np.array([1,2,3,4,5,6,7])\n",
    "a[1:4]"
   ]
  },
  {
   "cell_type": "code",
   "execution_count": null,
   "metadata": {},
   "outputs": [],
   "source": []
  }
 ],
 "metadata": {
  "kernelspec": {
   "display_name": "Python 3",
   "language": "python",
   "name": "python3"
  },
  "language_info": {
   "codemirror_mode": {
    "name": "ipython",
    "version": 3
   },
   "file_extension": ".py",
   "mimetype": "text/x-python",
   "name": "python",
   "nbconvert_exporter": "python",
   "pygments_lexer": "ipython3",
   "version": "3.7.1"
  }
 },
 "nbformat": 4,
 "nbformat_minor": 2
}
